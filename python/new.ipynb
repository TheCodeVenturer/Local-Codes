{
 "cells": [
  {
   "cell_type": "code",
   "execution_count": 5,
   "metadata": {},
   "outputs": [
    {
     "name": "stdout",
     "output_type": "stream",
     "text": [
      "You Can't Divide a No. by zero, float division by zero\n",
      "bye\n"
     ]
    }
   ],
   "source": [
    "a=5.2\n",
    "b=0.0\n",
    "try:\n",
    "    print(a/b)\n",
    "except Exception as e:\n",
    "    print(\"You Can't Divide a No. by zero,\",e)\n",
    "print(\"bye\")\n",
    "\n",
    "\n",
    "    "
   ]
  },
  {
   "cell_type": "code",
   "execution_count": 13,
   "metadata": {},
   "outputs": [
    {
     "name": "stdout",
     "output_type": "stream",
     "text": [
      "Resource Open\n",
      "You Can't Divide a No. by zero, division by zero\n",
      "Resource Closed\n"
     ]
    }
   ],
   "source": [
    "a=5\n",
    "b=0\n",
    "try:\n",
    "    print(\"Resource Open\")\n",
    "    print(a/b)\n",
    "    print(\"hello\")\n",
    "except Exception as e:\n",
    "    print(\"You Can't Divide a No. by zero,\",e)\n",
    "finally:\n",
    "    print(\"Resource Closed\")\n"
   ]
  },
  {
   "cell_type": "code",
   "execution_count": 3,
   "metadata": {},
   "outputs": [
    {
     "name": "stdout",
     "output_type": "stream",
     "text": [
      "Resource Open\n",
      "2.5\n",
      "Resource Closed\n"
     ]
    }
   ],
   "source": [
    "a=5\n",
    "b=2\n",
    "try:\n",
    "    print(\"Resource Open\")\n",
    "    print(a/b)\n",
    "except ZeroDivisionError as e:\n",
    "    print(\"You Can't Divide a No. by zero,\",e)\n",
    "except ValueError as e:\n",
    "    print(\"Invalid Input,\",e)\n",
    "except Exception as e:\n",
    "    print(\"Something Went Wrong,\",e)\n",
    "finally:\n",
    "    print(\"Resource Closed\")\n",
    "n=int(input(\"Enter No.\"))"
   ]
  },
  {
   "cell_type": "code",
   "execution_count": 1,
   "metadata": {},
   "outputs": [],
   "source": [
    "import seaborn as sns\n",
    "import numpy\n",
    "import matplotlib.pyplot as plt\n",
    "import pandas as pd"
   ]
  },
  {
   "cell_type": "code",
   "execution_count": 2,
   "metadata": {},
   "outputs": [],
   "source": [
    "import seaborn as sns"
   ]
  }
 ],
 "metadata": {
  "kernelspec": {
   "display_name": "Python 3",
   "language": "python",
   "name": "python3"
  },
  "language_info": {
   "codemirror_mode": {
    "name": "ipython",
    "version": 3
   },
   "file_extension": ".py",
   "mimetype": "text/x-python",
   "name": "python",
   "nbconvert_exporter": "python",
   "pygments_lexer": "ipython3",
   "version": "3.11.3"
  },
  "orig_nbformat": 4
 },
 "nbformat": 4,
 "nbformat_minor": 2
}
