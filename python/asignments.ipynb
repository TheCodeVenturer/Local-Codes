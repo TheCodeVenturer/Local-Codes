{
 "cells": [
  {
   "attachments": {},
   "cell_type": "markdown",
   "metadata": {},
   "source": [
    "# **Assignment**\n",
    "\n",
    "---\n",
    "\n",
    "1. Write A python program to create a text file “intro.txt” in python and ask the user to write a single line of text by user input.\n",
    "2. Write A python program to create a text file “MyFile.txt” in python and ask the user to write separate 3 lines with three input statements from the user.\n",
    "3. write a python program to count the total number of upper case, lower case, and digits used in the text file “merge.txt”.\n",
    "4. write a python program to count how many copy of a given word exist in a file and add the count of that word in the file.\n",
    "5. Write A python program to input n no.s and store even no.os in even.txt and odds in odd.txt\n",
    "6. Make a calculator using Tkinter\n",
    "7. Make a form using Tkinter\n",
    "8. Harshad Number Program in Python Exception Handling.\n",
    "9. Program to print the reciprocal of even numbers using Exception Handling.\n",
    "10. Perfect division function with clean-up action in Python Exception Handling.\n",
    "11. Perfect division function in Python Exception Handling.\n",
    "12. Disarium Number Program in Python Exception Handling.\n"
   ]
  },
  {
   "attachments": {},
   "cell_type": "markdown",
   "metadata": {},
   "source": [
    "### Write A python program to create a text file “intro.txt” in python and ask the user to write a single line of text by user input.\n"
   ]
  },
  {
   "cell_type": "code",
   "execution_count": 2,
   "metadata": {},
   "outputs": [],
   "source": [
    "fs = open(\"intro.txt\", 'w')\n",
    "line1 = input(\"Enter a Sentence to Input into the File\")\n",
    "fs.write(line1)\n",
    "fs.close()\n"
   ]
  },
  {
   "attachments": {},
   "cell_type": "markdown",
   "metadata": {},
   "source": [
    "### Write A python program to create a text file “MyFile.txt” in python and ask the user to write separate 3 lines with three input statements from the user.\n"
   ]
  },
  {
   "cell_type": "code",
   "execution_count": 1,
   "metadata": {},
   "outputs": [],
   "source": [
    "fs = open(\"MyFile.txt\", 'w')\n",
    "line1 = input(\"Enter First Line\")\n",
    "line2 = input(\"Enter First Line\")\n",
    "line3 = input(\"Enter First Line\")\n",
    "fs.write(line1+'\\n')\n",
    "fs.write(line2+'\\n')\n",
    "fs.write(line3+'\\n')\n",
    "fs.close()\n"
   ]
  },
  {
   "attachments": {},
   "cell_type": "markdown",
   "metadata": {},
   "source": [
    "### write a python program to count the total number of upper case, lower case, and digits used in the text file “merge.txt”\n"
   ]
  },
  {
   "cell_type": "code",
   "execution_count": 4,
   "metadata": {},
   "outputs": [
    {
     "name": "stdout",
     "output_type": "stream",
     "text": [
      "There are 3 digits, 11 uppercase letters and 35 lowercase letters \n"
     ]
    }
   ],
   "source": [
    "fs = open(\"merge.txt\", 'r')\n",
    "lines = fs.readlines()\n",
    "digits = 0\n",
    "uCase = 0\n",
    "lCase = 0\n",
    "for line in lines:\n",
    "    for chars in line:\n",
    "        if (chars.isdigit()):\n",
    "            digits += 1\n",
    "        elif (chars.isupper()):\n",
    "            uCase += 1\n",
    "        elif (chars.islower()):\n",
    "            lCase += 1\n",
    "print(\"There are {} digits, {} uppercase letters and {} lowercase letters \".format(\n",
    "    digits, uCase, lCase))\n"
   ]
  },
  {
   "attachments": {},
   "cell_type": "markdown",
   "metadata": {},
   "source": [
    "### write a python program to count how many copy of a given word exist in a file and add the count of that word in the file.\n"
   ]
  },
  {
   "cell_type": "code",
   "execution_count": null,
   "metadata": {},
   "outputs": [],
   "source": [
    "def countWords(fileName: str, target: str) -> int:\n",
    "    count: int = 0\n",
    "    with open(fileName, 'a+') as fs:\n",
    "        lines = fs.readlines()\n",
    "        for line in lines:\n",
    "            newLine = line.split(' ')\n",
    "            for word in newLine:\n",
    "                if (word == target):\n",
    "                    count += 1\n",
    "        fs.write(\"{} count is {}\".format(target, count))\n",
    "    return count\n",
    "\n",
    "\n",
    "fileName: str = \"MyFile.txt\"\n",
    "target: str = input(\"enter Word to search\")\n",
    "count = countWords(fileName, target)\n",
    "print(\"{} is present {} times in the file {}\".format(target, count, fileName))\n"
   ]
  },
  {
   "cell_type": "markdown",
   "metadata": {},
   "source": [
    "## <p style=\"text-align: center;\">PCA2 Answer Starts Here</p> \n",
    "-----\n",
    "**<p style=\"text-align: center;\">From question 6</p>**"
   ]
  },
  {
   "attachments": {},
   "cell_type": "markdown",
   "metadata": {},
   "source": [
    "### Make a Calculator using Tkinter\n"
   ]
  },
  {
   "cell_type": "code",
   "execution_count": 4,
   "metadata": {},
   "outputs": [],
   "source": [
    "from tkinter import *\n",
    "\n",
    "def rootGenerator(title: str):\n",
    "    root = Tk()\n",
    "    root.title(title)\n",
    "    root.geometry(\"450x300+100+200\")\n",
    "    root.config(bg=\"powder blue\")\n",
    "    return root\n",
    "\n",
    "class Mywindow(object):\n",
    "    def __init__(self, master):\n",
    "        self.lbl1 = Label(master, text=\"Enter first No.\", font=(\"arial\", 15, \"bold\"), bg=\"yellow\")\n",
    "        self.lbl1.place(x=10, y=50)\n",
    "\n",
    "        self.lbl2 = Label(master, text=\"Enter second No.\", font=(\"arial\", 15, \"bold\"), bg=\"yellow\")\n",
    "        self.lbl2.place(x=10, y=100)\n",
    "\n",
    "        self.lbl3 = Label(master, text=\"Result\", font=(\"arial\", 15, \"bold\"), bg=\"yellow\")\n",
    "        self.lbl3.place(x=10, y=150)\n",
    "\n",
    "        self.result = Label(master, width=15, text=\"\", font=(\"arial\", 15, \"bold\"), bg=\"orange\")\n",
    "        self.result.place(x=200,y=150)\n",
    "\n",
    "        self.t1 = Entry(bd=3, width=20, font=(\"arial\", 12, \"bold\"))\n",
    "        self.t1.place(x=200, y=50)\n",
    "\n",
    "        self.t2 = Entry(bd=3, width=20, font=(\"arial\", 12, \"bold\"))\n",
    "        self.t2.place(x=200, y=100)\n",
    "\n",
    "        self.b1 = Button(master, width=10, text=\"Add\", command=lambda:self.handleClick(\"Add\"), font=(\"arial\", 10, \"bold\"), bg=\"powderblue\")\n",
    "        self.b1.place(x=10, y=200)\n",
    "\n",
    "        self.b2 = Button(master, width=10, text=\"Subtract\", command=lambda:self.handleClick(\"Sub\"), font=(\"arial\", 10, \"bold\"), bg=\"powderblue\")\n",
    "        self.b2.place(x=110, y=200)\n",
    "\n",
    "        self.b3 = Button(master, width=10, text=\"Multiply\", command=lambda:self.handleClick(\"Mul\"), font=(\"arial\", 10, \"bold\"), bg=\"powderblue\")\n",
    "        self.b3.place(x=210, y=200)\n",
    "\n",
    "        self.b4 = Button(master, width=10, text=\"Divide\", command=lambda:self.handleClick(\"Div\"), font=(\"arial\", 10, \"bold\"), bg=\"powderblue\")\n",
    "        self.b4.place(x=310, y=200)\n",
    "    def handleClick(self,choice:str):\n",
    "        num1 = int(self.t1.get())       \n",
    "        num2 = int(self.t2.get())       \n",
    "        val = 0\n",
    "        match(choice):\n",
    "            case \"Add\": val=num1+num2\n",
    "            case \"Sub\":val=num1-num2\n",
    "            case \"Mul\":val=num1*num2\n",
    "            case \"Div\":val=num1/num2\n",
    "        val = round(val,2)\n",
    "        self.result.config(text = str(val))\n",
    "root = rootGenerator(\"Calculator\")\n",
    "mywin = Mywindow(root)\n",
    "root.mainloop()"
   ]
  },
  {
   "attachments": {},
   "cell_type": "markdown",
   "metadata": {},
   "source": [
    "### Make A Form using Tkinter\n"
   ]
  },
  {
   "cell_type": "code",
   "execution_count": 7,
   "metadata": {},
   "outputs": [
    {
     "name": "stdout",
     "output_type": "stream",
     "text": [
      "{'name': 'NIRAJ', 'age': '20', 'username': 'modiniraj', 'password': 'modiniraj'}\n"
     ]
    }
   ],
   "source": [
    "from tkinter import *\n",
    "def rootGenerator(title: str):\n",
    "    root = Tk()\n",
    "    root.title(title)\n",
    "    root.geometry(\"600x300+100+200\")\n",
    "    root.config(bg=\"powder blue\")\n",
    "    return root\n",
    "userData: dict = {}\n",
    "class Mywindow1():\n",
    "    def __init__(self, master):\n",
    "        self.lbl1 = Label(master, text=\"Enter your name\", font=(\"arial\", 15, \"bold\"), bg=\"powderblue\")\n",
    "        self.lbl1.place(x=10, y=50)\n",
    "\n",
    "        self.lbl2 = Label(master, text=\"Enter your Age\", font=(\n",
    "            \"arial\", 15, \"bold\"), bg=\"powderblue\")\n",
    "        self.lbl2.place(x=10, y=100)\n",
    "\n",
    "        self.t1 = Entry(bd=3, font=(\"arial\", 12, \"bold\"))\n",
    "        self.t1.place(x=300, y=50)\n",
    "\n",
    "        self.t2 = Entry(bd=3, font=(\"arial\", 12, \"bold\"))\n",
    "        self.t2.place(x=300, y=100)\n",
    "\n",
    "        self.b1 = Button(master, width=10, text=\"Next\", command=self.next, font=(\n",
    "            \"arial\", 10, \"bold\"), bg=\"powderblue\")\n",
    "        self.b1.place(x=200, y=200)\n",
    "\n",
    "        self.root = master\n",
    "\n",
    "    def next(self):\n",
    "        global userData\n",
    "        name = self.t1.get()\n",
    "        age = self.t2.get()\n",
    "        userData[\"name\"] = name\n",
    "        userData[\"age\"] = age\n",
    "        self.root.destroy()\n",
    "        root = rootGenerator(\"Form\")\n",
    "        mywin = Mywindow2(root)\n",
    "        root.mainloop()\n",
    "\n",
    "\n",
    "class Mywindow2():\n",
    "    def __init__(self, master):\n",
    "        self.lbl1 = Label(master, text=\"Enter username\", font=(\n",
    "            \"arial\", 15, \"bold\"), bg=\"powderblue\")\n",
    "        self.lbl1.place(x=10, y=50)\n",
    "\n",
    "        self.lbl2 = Label(master, text=\"Enter password\", font=(\n",
    "            \"arial\", 15, \"bold\"), bg=\"powderblue\")\n",
    "        self.lbl2.place(x=10, y=100)\n",
    "\n",
    "        self.t1 = Entry(bd=3, font=(\"arial\", 12, \"bold\"))\n",
    "        self.t1.place(x=300, y=50)\n",
    "\n",
    "        self.t2 = Entry(bd=3, font=(\"arial\", 12, \"bold\"))\n",
    "        self.t2.place(x=300, y=100)\n",
    "\n",
    "        self.b1 = Button(master, width=10, text=\"Back\", command=self.back, font=(\n",
    "            \"arial\", 10, \"bold\"), bg=\"powderblue\")\n",
    "        self.b1.place(x=200, y=200)\n",
    "        self.b1 = Button(master, width=10, text=\"Sumbit\", command=self.submit, font=(\n",
    "            \"arial\", 10, \"bold\"), bg=\"powderblue\")\n",
    "        self.b1.place(x=200, y=250)\n",
    "\n",
    "        self.root = master\n",
    "\n",
    "    def back(self):\n",
    "        self.root.destroy()\n",
    "        root = rootGenerator(\"Form\")\n",
    "        mywin = Mywindow1(root)\n",
    "        root.mainloop()\n",
    "\n",
    "    def submit(self):\n",
    "        global userData\n",
    "        username = self.t1.get()\n",
    "        password = self.t2.get()\n",
    "        userData[\"username\"] = username\n",
    "        userData[\"password\"] = password\n",
    "        print(userData)\n",
    "        self.root.destroy()\n",
    "\n",
    "\n",
    "root = rootGenerator(\"Form\")\n",
    "mywin = Mywindow1(root)\n",
    "root.mainloop()\n"
   ]
  },
  {
   "attachments": {},
   "cell_type": "markdown",
   "metadata": {},
   "source": [
    "### Harshad Number Program in Python Exception Handling."
   ]
  },
  {
   "cell_type": "code",
   "execution_count": 1,
   "metadata": {},
   "outputs": [
    {
     "name": "stdout",
     "output_type": "stream",
     "text": [
      "Program met an exception `invalid literal for int() with base 10: 'yes'`\n"
     ]
    }
   ],
   "source": [
    "def harshadNo(num:int)->bool:\n",
    "    copyNum:int = num\n",
    "    tot = 0\n",
    "    while(num>0):\n",
    "        tot += num%10\n",
    "        num//=10\n",
    "    if(copyNum%tot): return False\n",
    "    return True\n",
    "try:\n",
    "    n = int(input(\"Enter No. to Check:\"))\n",
    "    if(harshadNo(n)): print(\"Harshad No.\")\n",
    "    else:print(\"Not a Harshad No.\")\n",
    "except Exception as e:\n",
    "    print(\"Program met an exception `{}`\".format(e))\n"
   ]
  },
  {
   "attachments": {},
   "cell_type": "markdown",
   "metadata": {},
   "source": [
    "### Program to print the reciprocal of even numbers using Exception Handling."
   ]
  },
  {
   "cell_type": "code",
   "execution_count": 3,
   "metadata": {},
   "outputs": [
    {
     "name": "stdout",
     "output_type": "stream",
     "text": [
      "Program met an Exception `invalid literal for int() with base 10: 'er'`\n"
     ]
    }
   ],
   "source": [
    "try:\n",
    "    n = int(input(\"Enter Even No.\"))\n",
    "    if(n%2): raise Exception(\"Asked Even got Odd\")\n",
    "    else: \n",
    "        rec = 1/n\n",
    "        rec = round(rec,2)\n",
    "        print(\"Reciprocal of {} is {}\".format(n,rec))\n",
    "except Exception as e:\n",
    "    print(\"Program met an Exception `{}`\".format(e))"
   ]
  },
  {
   "attachments": {},
   "cell_type": "markdown",
   "metadata": {},
   "source": [
    "### Perfect division function with clean-up action in Python Exception Handling."
   ]
  },
  {
   "cell_type": "code",
   "execution_count": null,
   "metadata": {},
   "outputs": [],
   "source": [
    "def division(x,y):\n",
    "    try:\n",
    "        div = x/y\n",
    "        print(f\"{x}/{y} = {div}\")\n",
    "    except ZeroDivisionError as e:\n",
    "        print(\"Exception occurred!:\", e)\n",
    "    except Exception as e:\n",
    "        print(\"Exception occurred!:\", e)\n",
    "    finally:\n",
    "        print(\"Working on division function.\")\n",
    "a = int(input(\"Enter number a: \"))\n",
    "b = int(input(\"Enter number b: \"))\n",
    "division(a,b)"
   ]
  },
  {
   "attachments": {},
   "cell_type": "markdown",
   "metadata": {},
   "source": [
    "### Perfect division function in Python Exception Handling."
   ]
  },
  {
   "cell_type": "code",
   "execution_count": 2,
   "metadata": {},
   "outputs": [
    {
     "name": "stdout",
     "output_type": "stream",
     "text": [
      "Exception occurred!: division by zero\n"
     ]
    }
   ],
   "source": [
    "def division(x,y):\n",
    "    try:\n",
    "        div = x/y\n",
    "        print(f\"{x}/{y} = {div}\")\n",
    "    except ZeroDivisionError as e:\n",
    "        print(\"Exception occurred!:\", e)\n",
    "    except Exception as e:\n",
    "        print(\"Exception occurred!:\", e)\n",
    "a = int(input(\"Enter number a: \"))\n",
    "b = int(input(\"Enter number b: \"))\n",
    "division(a,b)"
   ]
  },
  {
   "attachments": {},
   "cell_type": "markdown",
   "metadata": {},
   "source": [
    "### Disarium Number Program in Python Exception Handling."
   ]
  },
  {
   "cell_type": "code",
   "execution_count": 6,
   "metadata": {},
   "outputs": [
    {
     "name": "stdout",
     "output_type": "stream",
     "text": [
      "1.6989700043360187\n"
     ]
    },
    {
     "data": {
      "text/plain": [
       "False"
      ]
     },
     "execution_count": 6,
     "metadata": {},
     "output_type": "execute_result"
    }
   ],
   "source": [
    "import math\n",
    "def disarium(num:int):\n",
    "    try:\n",
    "        size :int = (math.log10(num)) +1\n",
    "        tot=0\n",
    "        copyNum = num\n",
    "        print(size)\n",
    "        while(size>0):\n",
    "            tot += (num%10)**size\n",
    "            num//=10\n",
    "            size -=1\n",
    "        if(num== copyNum): print(\"Disarium No.\")\n",
    "        else: print(\"Not a Disarium No.\")\n",
    "    except Exception as e:\n",
    "        print(f\"program met an Exception '{e}\")\n",
    "num = int(input(\"Enter a No. \"))\n",
    "disarium(num)"
   ]
  }
 ],
 "metadata": {
  "kernelspec": {
   "display_name": "Python 3",
   "language": "python",
   "name": "python3"
  },
  "language_info": {
   "codemirror_mode": {
    "name": "ipython",
    "version": 3
   },
   "file_extension": ".py",
   "mimetype": "text/x-python",
   "name": "python",
   "nbconvert_exporter": "python",
   "pygments_lexer": "ipython3",
   "version": "3.11.3"
  },
  "orig_nbformat": 4
 },
 "nbformat": 4,
 "nbformat_minor": 2
}
